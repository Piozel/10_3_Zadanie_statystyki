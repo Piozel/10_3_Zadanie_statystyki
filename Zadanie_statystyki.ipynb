{
 "cells": [
  {
   "cell_type": "code",
   "execution_count": 1,
   "id": "2f71bb74-78dc-422f-9030-2b3074879964",
   "metadata": {},
   "outputs": [],
   "source": [
    "#Stwórz dane z rozkładu normalnego o średniej 3 i odchyleniu standardowym 1 dla 100 oraz 10 000. Na podstawie tych sztucznie stworzonych zbiorów \n",
    "#oblicz statystyki poznane w module statystki opisowej. Opisz różnice pomiędzy statystkami i wynik swojej pracy wyślij Mentorowi jako Jupyter Noteboook \n",
    "#zapisany w Github.\n",
    "\n",
    "import numpy as np\n",
    "import pandas as pd\n",
    "import matplotlib.pyplot as plt\n",
    "from scipy import stats\n",
    "from sklearn.preprocessing import StandardScaler, MinMaxScaler\n",
    "\n",
    "mean = 3\n",
    "std_dev = 1\n",
    "\n",
    "# Generowanie danych z rozkładu normalnego\n",
    "data_100 = np.random.normal(mean, std_dev, 100)\n",
    "data_10000 = np.random.normal(mean, std_dev, 10000)"
   ]
  },
  {
   "cell_type": "code",
   "execution_count": 2,
   "id": "30e17d2f-96c1-4656-bb90-7e57338a16bc",
   "metadata": {},
   "outputs": [],
   "source": [
    "# Tworzenie DataFrame z danymi\n",
    "df_100 = pd.DataFrame(data_100, columns=[\"value_100\"])\n",
    "df_10000 = pd.DataFrame(data_10000, columns=[\"value_10000\"])"
   ]
  },
  {
   "cell_type": "code",
   "execution_count": 3,
   "id": "e70393a4-3a74-43a7-8f98-bf68daac4da6",
   "metadata": {},
   "outputs": [
    {
     "data": {
      "text/html": [
       "<div>\n",
       "<style scoped>\n",
       "    .dataframe tbody tr th:only-of-type {\n",
       "        vertical-align: middle;\n",
       "    }\n",
       "\n",
       "    .dataframe tbody tr th {\n",
       "        vertical-align: top;\n",
       "    }\n",
       "\n",
       "    .dataframe thead th {\n",
       "        text-align: right;\n",
       "    }\n",
       "</style>\n",
       "<table border=\"1\" class=\"dataframe\">\n",
       "  <thead>\n",
       "    <tr style=\"text-align: right;\">\n",
       "      <th></th>\n",
       "      <th>value_100</th>\n",
       "    </tr>\n",
       "  </thead>\n",
       "  <tbody>\n",
       "    <tr>\n",
       "      <th>0</th>\n",
       "      <td>2.321097</td>\n",
       "    </tr>\n",
       "    <tr>\n",
       "      <th>1</th>\n",
       "      <td>0.915111</td>\n",
       "    </tr>\n",
       "    <tr>\n",
       "      <th>2</th>\n",
       "      <td>3.241232</td>\n",
       "    </tr>\n",
       "    <tr>\n",
       "      <th>3</th>\n",
       "      <td>3.327408</td>\n",
       "    </tr>\n",
       "    <tr>\n",
       "      <th>4</th>\n",
       "      <td>1.943563</td>\n",
       "    </tr>\n",
       "    <tr>\n",
       "      <th>...</th>\n",
       "      <td>...</td>\n",
       "    </tr>\n",
       "    <tr>\n",
       "      <th>95</th>\n",
       "      <td>2.594811</td>\n",
       "    </tr>\n",
       "    <tr>\n",
       "      <th>96</th>\n",
       "      <td>4.142568</td>\n",
       "    </tr>\n",
       "    <tr>\n",
       "      <th>97</th>\n",
       "      <td>3.684212</td>\n",
       "    </tr>\n",
       "    <tr>\n",
       "      <th>98</th>\n",
       "      <td>4.344762</td>\n",
       "    </tr>\n",
       "    <tr>\n",
       "      <th>99</th>\n",
       "      <td>2.412533</td>\n",
       "    </tr>\n",
       "  </tbody>\n",
       "</table>\n",
       "<p>100 rows × 1 columns</p>\n",
       "</div>"
      ],
      "text/plain": [
       "    value_100\n",
       "0    2.321097\n",
       "1    0.915111\n",
       "2    3.241232\n",
       "3    3.327408\n",
       "4    1.943563\n",
       "..        ...\n",
       "95   2.594811\n",
       "96   4.142568\n",
       "97   3.684212\n",
       "98   4.344762\n",
       "99   2.412533\n",
       "\n",
       "[100 rows x 1 columns]"
      ]
     },
     "execution_count": 3,
     "metadata": {},
     "output_type": "execute_result"
    }
   ],
   "source": [
    "df_100"
   ]
  },
  {
   "cell_type": "code",
   "execution_count": 4,
   "id": "6fec695b-572f-402f-841b-c42c87e17b20",
   "metadata": {},
   "outputs": [
    {
     "data": {
      "text/html": [
       "<div>\n",
       "<style scoped>\n",
       "    .dataframe tbody tr th:only-of-type {\n",
       "        vertical-align: middle;\n",
       "    }\n",
       "\n",
       "    .dataframe tbody tr th {\n",
       "        vertical-align: top;\n",
       "    }\n",
       "\n",
       "    .dataframe thead th {\n",
       "        text-align: right;\n",
       "    }\n",
       "</style>\n",
       "<table border=\"1\" class=\"dataframe\">\n",
       "  <thead>\n",
       "    <tr style=\"text-align: right;\">\n",
       "      <th></th>\n",
       "      <th>value_10000</th>\n",
       "    </tr>\n",
       "  </thead>\n",
       "  <tbody>\n",
       "    <tr>\n",
       "      <th>0</th>\n",
       "      <td>3.737454</td>\n",
       "    </tr>\n",
       "    <tr>\n",
       "      <th>1</th>\n",
       "      <td>2.746750</td>\n",
       "    </tr>\n",
       "    <tr>\n",
       "      <th>2</th>\n",
       "      <td>3.016873</td>\n",
       "    </tr>\n",
       "    <tr>\n",
       "      <th>3</th>\n",
       "      <td>3.290075</td>\n",
       "    </tr>\n",
       "    <tr>\n",
       "      <th>4</th>\n",
       "      <td>1.410991</td>\n",
       "    </tr>\n",
       "    <tr>\n",
       "      <th>...</th>\n",
       "      <td>...</td>\n",
       "    </tr>\n",
       "    <tr>\n",
       "      <th>9995</th>\n",
       "      <td>3.039485</td>\n",
       "    </tr>\n",
       "    <tr>\n",
       "      <th>9996</th>\n",
       "      <td>3.282450</td>\n",
       "    </tr>\n",
       "    <tr>\n",
       "      <th>9997</th>\n",
       "      <td>4.268136</td>\n",
       "    </tr>\n",
       "    <tr>\n",
       "      <th>9998</th>\n",
       "      <td>3.739995</td>\n",
       "    </tr>\n",
       "    <tr>\n",
       "      <th>9999</th>\n",
       "      <td>3.132033</td>\n",
       "    </tr>\n",
       "  </tbody>\n",
       "</table>\n",
       "<p>10000 rows × 1 columns</p>\n",
       "</div>"
      ],
      "text/plain": [
       "      value_10000\n",
       "0        3.737454\n",
       "1        2.746750\n",
       "2        3.016873\n",
       "3        3.290075\n",
       "4        1.410991\n",
       "...           ...\n",
       "9995     3.039485\n",
       "9996     3.282450\n",
       "9997     4.268136\n",
       "9998     3.739995\n",
       "9999     3.132033\n",
       "\n",
       "[10000 rows x 1 columns]"
      ]
     },
     "execution_count": 4,
     "metadata": {},
     "output_type": "execute_result"
    }
   ],
   "source": [
    "\n",
    "df_10000"
   ]
  },
  {
   "cell_type": "code",
   "execution_count": 5,
   "id": "a9795dec-e0a7-42b2-bd0f-bc6d28725540",
   "metadata": {},
   "outputs": [
    {
     "data": {
      "text/plain": [
       "np.float64(2.89)"
      ]
     },
     "execution_count": 5,
     "metadata": {},
     "output_type": "execute_result"
    }
   ],
   "source": [
    "mean_df_100 = round(np.mean(df_100),2)\n",
    "mean_df_100"
   ]
  },
  {
   "cell_type": "code",
   "execution_count": 6,
   "id": "fe874dea-45b0-4cd3-ad86-3f8be6fc7200",
   "metadata": {},
   "outputs": [
    {
     "data": {
      "text/plain": [
       "np.float64(2.98)"
      ]
     },
     "execution_count": 6,
     "metadata": {},
     "output_type": "execute_result"
    }
   ],
   "source": [
    "mean_df_10000 = round(np.mean(df_10000),2)\n",
    "mean_df_10000"
   ]
  },
  {
   "cell_type": "code",
   "execution_count": 7,
   "id": "859b833d-e8b7-477d-bddb-37cf53724005",
   "metadata": {},
   "outputs": [
    {
     "data": {
      "text/plain": [
       "np.float64(-0.08999999999999986)"
      ]
     },
     "execution_count": 7,
     "metadata": {},
     "output_type": "execute_result"
    }
   ],
   "source": [
    "mean_diff= mean_df_100-mean_df_10000\n",
    "mean_diff"
   ]
  },
  {
   "cell_type": "code",
   "execution_count": 8,
   "id": "2d98d187-49d9-4c54-8d64-6c450672d908",
   "metadata": {},
   "outputs": [
    {
     "data": {
      "text/plain": [
       "np.float64(2.7548309157494986)"
      ]
     },
     "execution_count": 8,
     "metadata": {},
     "output_type": "execute_result"
    }
   ],
   "source": [
    "#Dla obu próbek oczekujemy średniej zbliżonej do 3 i tak to też wygląda. 100 średnia może bardziej odbiegać od wartości teoretycznej z powodu \n",
    "#losowych fluktuacji.\n",
    "\n",
    "\n",
    "median_df_100 = np.median(df_100)\n",
    "median_df_100"
   ]
  },
  {
   "cell_type": "code",
   "execution_count": 9,
   "id": "d0f93ae3-e880-41d2-ac39-8358f0dbf269",
   "metadata": {},
   "outputs": [
    {
     "data": {
      "text/plain": [
       "np.float64(2.9812626815114234)"
      ]
     },
     "execution_count": 9,
     "metadata": {},
     "output_type": "execute_result"
    }
   ],
   "source": [
    "median_df_10000 = np.median(df_10000)\n",
    "median_df_10000\n"
   ]
  },
  {
   "cell_type": "code",
   "execution_count": 10,
   "id": "7a49b9b5-2123-4297-979a-4fd582ab8848",
   "metadata": {},
   "outputs": [
    {
     "data": {
      "text/plain": [
       "np.float64(-0.2264317657619248)"
      ]
     },
     "execution_count": 10,
     "metadata": {},
     "output_type": "execute_result"
    }
   ],
   "source": [
    "median_diff = median_df_100 - median_df_10000\n",
    "median_diff"
   ]
  },
  {
   "cell_type": "code",
   "execution_count": 11,
   "id": "218d3c12-482a-40ee-9731-72956547c811",
   "metadata": {},
   "outputs": [],
   "source": [
    "# Mediana jest na podobnym poziomie dla obu zbiorów, tak jak możnabyło się spodziewać z racji większej ilości obserwacji mediana dla zbioru 10000 znajduje \n",
    "#się bliżej średniej"
   ]
  },
  {
   "cell_type": "code",
   "execution_count": 12,
   "id": "980a68ab-2e54-4ceb-8ffd-983b717417df",
   "metadata": {},
   "outputs": [
    {
     "data": {
      "text/plain": [
       "ModeResult(mode=array([0.25441839]), count=array([1.]))"
      ]
     },
     "execution_count": 12,
     "metadata": {},
     "output_type": "execute_result"
    }
   ],
   "source": [
    "mode_df_100 = stats.mode(df_100)\n",
    "mode_df_100"
   ]
  },
  {
   "cell_type": "code",
   "execution_count": 13,
   "id": "ff6f3c69-2f0f-4399-8687-cc827ba410b0",
   "metadata": {},
   "outputs": [
    {
     "data": {
      "text/plain": [
       "ModeResult(mode=array([-0.52835056]), count=array([1.]))"
      ]
     },
     "execution_count": 13,
     "metadata": {},
     "output_type": "execute_result"
    }
   ],
   "source": [
    "mode_df_10000 = stats.mode(df_10000)\n",
    "mode_df_10000\n"
   ]
  },
  {
   "cell_type": "code",
   "execution_count": 14,
   "id": "9814d8a7-6835-4bfd-be0c-922ca05e0f7b",
   "metadata": {},
   "outputs": [
    {
     "data": {
      "text/plain": [
       "array([0.78276895])"
      ]
     },
     "execution_count": 14,
     "metadata": {},
     "output_type": "execute_result"
    }
   ],
   "source": [
    "mode_diff = mode_df_100[0] - mode_df_10000[0]\n",
    "mode_diff\n",
    "# Co ciekawe dominanta dla 10000 obserwacji jest ujemna, a różnica między dominanta 100 a 1000 wynosi prawie 1. W obu przypadkach domunująca wartość \n",
    "#wystepuje jeden raz więc nie ma co zagłębiać się w tą miarę statystyczną."
   ]
  },
  {
   "cell_type": "code",
   "execution_count": 15,
   "id": "fd4625aa-cd6a-48b7-a6a5-be4e6e74fc4e",
   "metadata": {},
   "outputs": [
    {
     "name": "stdout",
     "output_type": "stream",
     "text": [
      "Q0: 0.2544183884908602\n",
      "Q1: 2.239876020055038\n",
      "Q2: 2.7548309157494986\n",
      "Q3: 3.6817923803452404\n",
      "Q4: 5.036859150720639\n"
     ]
    }
   ],
   "source": [
    "q0_100 = np.quantile(df_100, 0.0)\n",
    "q1_100 = np.quantile(df_100, 0.25)\n",
    "q3_100 = np.quantile(df_100, 0.75)\n",
    "q4_100 = np.quantile(df_100, 1.0)\n",
    "print(f'Q0: {q0_100}')\n",
    "print(f'Q1: {q1_100}')\n",
    "print(f'Q2: {median_df_100}')\n",
    "print(f'Q3: {q3_100}')\n",
    "print(f'Q4: {q4_100}')"
   ]
  },
  {
   "cell_type": "code",
   "execution_count": 16,
   "id": "5554fef2-175c-4088-999b-58b9930f70f4",
   "metadata": {},
   "outputs": [
    {
     "name": "stdout",
     "output_type": "stream",
     "text": [
      "Q0: -0.5283505641070474\n",
      "Q1: 2.313232387638073\n",
      "Q2: 2.9812626815114234\n",
      "Q3: 3.652047416051356\n",
      "Q4: 6.542707280845574\n"
     ]
    }
   ],
   "source": [
    "q0_10000 = np.quantile(df_10000, 0.0)\n",
    "q1_10000 = np.quantile(df_10000, 0.25)\n",
    "q3_10000 = np.quantile(df_10000, 0.75)\n",
    "q4_10000 = np.quantile(df_10000, 1.0)\n",
    "print(f'Q0: {q0_10000}')\n",
    "print(f'Q1: {q1_10000}')\n",
    "print(f'Q2: {median_df_10000}')\n",
    "print(f'Q3: {q3_10000}')\n",
    "print(f'Q4: {q4_10000}')"
   ]
  },
  {
   "cell_type": "code",
   "execution_count": 17,
   "id": "6f20c182-a7a4-499c-90df-c4a96787aeeb",
   "metadata": {},
   "outputs": [
    {
     "name": "stdout",
     "output_type": "stream",
     "text": [
      "Q0_diff: 0.7827689525979076\n",
      "Q1_diff: -0.0733563675830351\n",
      "Q2_diff: -0.2264317657619248\n",
      "Q3_diff: 0.02974496429388429\n",
      "Q4_diff: -1.5058481301249351\n"
     ]
    }
   ],
   "source": [
    "Q0_diff=q0_100-q0_10000\n",
    "Q1_diff=q1_100-q1_10000\n",
    "Q2_diff=median_df_100-median_df_10000\n",
    "Q3_diff=q3_100-q3_10000\n",
    "Q4_diff=q4_100-q4_10000\n",
    "print(f'Q0_diff: {Q0_diff}')\n",
    "print(f'Q1_diff: {Q1_diff}')\n",
    "print(f'Q2_diff: {Q2_diff}')\n",
    "print(f'Q3_diff: {Q3_diff}')\n",
    "print(f'Q4_diff: {Q4_diff}')"
   ]
  },
  {
   "cell_type": "code",
   "execution_count": 18,
   "id": "9282697d-1e9b-4fdd-9a92-fb61cff53458",
   "metadata": {},
   "outputs": [],
   "source": [
    "#największa różnica miedzy 2 zbiorami wystepuje w 0 oraz 4 kwartylu. Wynika to z tego, że przedział 10000 obserwacji jest dłuższy i zawiera więcej \n",
    "#obserwacji co sprawia, że jest bardziej wygładzony ."
   ]
  },
  {
   "cell_type": "code",
   "execution_count": 28,
   "id": "358403e2-44f3-4fe6-b6b2-2ebabc1f1c2b",
   "metadata": {},
   "outputs": [
    {
     "name": "stderr",
     "output_type": "stream",
     "text": [
      "C:\\Users\\DarkRaziel\\AppData\\Local\\Temp\\ipykernel_22308\\1294903444.py:1: FutureWarning: Series.__getitem__ treating keys as positions is deprecated. In a future version, integer keys will always be treated as labels (consistent with DataFrame behavior). To access a value by position, use `ser.iloc[pos]`\n",
      "  range_100 = df_100.max()[0] - df_100.min()[0]\n"
     ]
    },
    {
     "data": {
      "text/plain": [
       "np.float64(4.782440762229779)"
      ]
     },
     "execution_count": 28,
     "metadata": {},
     "output_type": "execute_result"
    }
   ],
   "source": [
    "range_100 = df_100.max()[0] - df_100.min()[0]\n",
    "range_100"
   ]
  },
  {
   "cell_type": "code",
   "execution_count": 29,
   "id": "e4098ac6-278e-45bb-a154-db5b2ff76421",
   "metadata": {},
   "outputs": [
    {
     "name": "stderr",
     "output_type": "stream",
     "text": [
      "C:\\Users\\DarkRaziel\\AppData\\Local\\Temp\\ipykernel_22308\\3510169647.py:1: FutureWarning: Series.__getitem__ treating keys as positions is deprecated. In a future version, integer keys will always be treated as labels (consistent with DataFrame behavior). To access a value by position, use `ser.iloc[pos]`\n",
      "  range_10000 = df_10000.max()[0] - df_10000.min()[0]\n"
     ]
    },
    {
     "data": {
      "text/plain": [
       "np.float64(7.071057844952621)"
      ]
     },
     "execution_count": 29,
     "metadata": {},
     "output_type": "execute_result"
    }
   ],
   "source": [
    "range_10000 = df_10000.max()[0] - df_10000.min()[0]\n",
    "range_10000"
   ]
  },
  {
   "cell_type": "code",
   "execution_count": 21,
   "id": "b1727a1f-8507-4e44-a653-f779418f7f96",
   "metadata": {},
   "outputs": [
    {
     "data": {
      "text/plain": [
       "np.float64(-2.2886170827228423)"
      ]
     },
     "execution_count": 21,
     "metadata": {},
     "output_type": "execute_result"
    }
   ],
   "source": [
    "range_diff = range_100 - range_10000\n",
    "range_diff\n",
    "#Dla 10 000 obserwacji zakres wartości wynosi 7+ jednostek, co jest większe niż `5 jednostek dla range_100. \n",
    "#Z racji występowania większej ilości obserwacji w zbiorze 10000 zakres jest dłuższy w związku z większą szansą wystąpienia wartości skrajnych, \n",
    "#patrz Q0 oraz Q5 "
   ]
  },
  {
   "cell_type": "code",
   "execution_count": 22,
   "id": "fe479138-ac38-4dca-926a-eb9b520a2470",
   "metadata": {},
   "outputs": [
    {
     "name": "stdout",
     "output_type": "stream",
     "text": [
      "0.9553754395693485\n"
     ]
    },
    {
     "name": "stderr",
     "output_type": "stream",
     "text": [
      "C:\\Users\\DarkRaziel\\AppData\\Local\\Temp\\ipykernel_22308\\3206026110.py:1: FutureWarning: Series.__getitem__ treating keys as positions is deprecated. In a future version, integer keys will always be treated as labels (consistent with DataFrame behavior). To access a value by position, use `ser.iloc[pos]`\n",
      "  standard_deviation_100 = np.std(df_100, ddof=1, axis = 0)[0]\n"
     ]
    }
   ],
   "source": [
    "\n",
    "standard_deviation_100 = np.std(df_100, ddof=1, axis = 0)[0]\n",
    "print(standard_deviation_100)"
   ]
  },
  {
   "cell_type": "code",
   "execution_count": 23,
   "id": "3169e994-6eb0-4f9c-ac1c-2617d84ed3f1",
   "metadata": {},
   "outputs": [
    {
     "name": "stdout",
     "output_type": "stream",
     "text": [
      "0.9898624196325879\n"
     ]
    },
    {
     "name": "stderr",
     "output_type": "stream",
     "text": [
      "C:\\Users\\DarkRaziel\\AppData\\Local\\Temp\\ipykernel_22308\\712625622.py:1: FutureWarning: Series.__getitem__ treating keys as positions is deprecated. In a future version, integer keys will always be treated as labels (consistent with DataFrame behavior). To access a value by position, use `ser.iloc[pos]`\n",
      "  standard_deviation_10000 = np.std(df_10000, ddof=1, axis = 0)[0]\n"
     ]
    }
   ],
   "source": [
    "standard_deviation_10000 = np.std(df_10000, ddof=1, axis = 0)[0]\n",
    "print(standard_deviation_10000)"
   ]
  },
  {
   "cell_type": "code",
   "execution_count": 24,
   "id": "3b4b8d6d-11f4-43b8-847a-23fe6d84e2f5",
   "metadata": {},
   "outputs": [
    {
     "data": {
      "text/plain": [
       "np.float64(-0.03448698006323947)"
      ]
     },
     "execution_count": 24,
     "metadata": {},
     "output_type": "execute_result"
    }
   ],
   "source": [
    "standard_deviation_diff = standard_deviation_100 - standard_deviation_10000\n",
    "standard_deviation_diff\n",
    "# W obu przypadkach odchylenie standardowe jest bardzo zbliżone do oczekiwanego =1, podobnie jak w przypadku innych miar większa ilość obserwacji \n",
    "#powoduję to że wynik jest bardziej zbliżony do oczekiwanego\n"
   ]
  },
  {
   "cell_type": "code",
   "execution_count": 25,
   "id": "4fa816e3-f65c-4611-896c-e1d002d0c036",
   "metadata": {},
   "outputs": [
    {
     "data": {
      "image/png": "[encoded data removed]",
      "text/plain": [
       "<Figure size 640x480 with 1 Axes>"
      ]
     },
     "metadata": {},
     "output_type": "display_data"
    }
   ],
   "source": [
    "plt.boxplot(df_100)\n",
    "plt.show()"
   ]
  },
  {
   "cell_type": "code",
   "execution_count": 26,
   "id": "10238a70-c19b-49d8-83d2-08993f2884c1",
   "metadata": {},
   "outputs": [
    {
     "data": {
      "image/png": "[encoded data removed]",
      "text/plain": [
       "<Figure size 640x480 with 1 Axes>"
      ]
     },
     "metadata": {},
     "output_type": "display_data"
    }
   ],
   "source": [
    "plt.boxplot(df_10000)\n",
    "plt.show()"
   ]
  },
  {
   "cell_type": "code",
   "execution_count": 27,
   "id": "3ea862ee-6e7a-44f8-be60-8511d176fb9e",
   "metadata": {},
   "outputs": [],
   "source": [
    "#Zbiór 10000 ma znacznie więcej wartości odstających od zbioru 100"
   ]
  },
  {
   "cell_type": "code",
   "execution_count": null,
   "id": "9a699de0-8112-4007-9224-547eb1ff7dd5",
   "metadata": {},
   "outputs": [],
   "source": []
  }
 ],
 "metadata": {
  "kernelspec": {
   "display_name": "Python 3 (ipykernel)",
   "language": "python",
   "name": "python3"
  },
  "language_info": {
   "codemirror_mode": {
    "name": "ipython",
    "version": 3
   },
   "file_extension": ".py",
   "mimetype": "text/x-python",
   "name": "python",
   "nbconvert_exporter": "python",
   "pygments_lexer": "ipython3",
   "version": "3.13.2"
  }
 },
 "nbformat": 4,
 "nbformat_minor": 5
}
